{
 "cells": [
  {
   "cell_type": "markdown",
   "id": "1e244379-ca03-4840-97ac-49096d69f1a8",
   "metadata": {},
   "source": [
    "### import libs"
   ]
  },
  {
   "cell_type": "code",
   "execution_count": 1,
   "id": "603ce7bc-635a-4aaa-b3b6-f290325611cc",
   "metadata": {},
   "outputs": [],
   "source": [
    "import pandas as pd\n",
    "import numpy as np\n",
    "import matplotlib.pyplot as plt"
   ]
  },
  {
   "cell_type": "markdown",
   "id": "935e3f5d-8f30-4acb-979d-0e73c557febc",
   "metadata": {},
   "source": [
    "### read csv file"
   ]
  },
  {
   "cell_type": "code",
   "execution_count": 2,
   "id": "60df7b91-1d94-404f-8ff6-784162684f0a",
   "metadata": {},
   "outputs": [],
   "source": [
    "df = pd.read_csv('C:/Users/isdct/Documents/Anaconda/2 Amazon Prime Movies Dataset/data/amazon_prime_movies.csv')"
   ]
  },
  {
   "cell_type": "markdown",
   "id": "aad5a37f-238f-4cd7-a515-3c29e21aa8b9",
   "metadata": {},
   "source": [
    "### view dataframe use ()"
   ]
  },
  {
   "cell_type": "code",
   "execution_count": 3,
   "id": "4431ac24-5a1f-46a0-be3f-90d8a352d0f4",
   "metadata": {},
   "outputs": [
    {
     "data": {
      "text/html": [
       "<div>\n",
       "<style scoped>\n",
       "    .dataframe tbody tr th:only-of-type {\n",
       "        vertical-align: middle;\n",
       "    }\n",
       "\n",
       "    .dataframe tbody tr th {\n",
       "        vertical-align: top;\n",
       "    }\n",
       "\n",
       "    .dataframe thead th {\n",
       "        text-align: right;\n",
       "    }\n",
       "</style>\n",
       "<table border=\"1\" class=\"dataframe\">\n",
       "  <thead>\n",
       "    <tr style=\"text-align: right;\">\n",
       "      <th></th>\n",
       "      <th>Movie Name</th>\n",
       "      <th>Language</th>\n",
       "      <th>IMDb Rating</th>\n",
       "      <th>Running Time</th>\n",
       "      <th>Year of Release</th>\n",
       "      <th>Maturity Rating</th>\n",
       "      <th>Plot</th>\n",
       "    </tr>\n",
       "  </thead>\n",
       "  <tbody>\n",
       "    <tr>\n",
       "      <th>0</th>\n",
       "      <td>John Rambo</td>\n",
       "      <td>Tamil</td>\n",
       "      <td>7</td>\n",
       "      <td>1 h 26 min</td>\n",
       "      <td>2008.0</td>\n",
       "      <td>18+</td>\n",
       "      <td>In Thailand, John Rambo joins a group of merce...</td>\n",
       "    </tr>\n",
       "    <tr>\n",
       "      <th>1</th>\n",
       "      <td>American Pie</td>\n",
       "      <td>English</td>\n",
       "      <td>7</td>\n",
       "      <td>1 h 35 min</td>\n",
       "      <td>1999.0</td>\n",
       "      <td>18+</td>\n",
       "      <td>You'll never look at warm apple pie the same w...</td>\n",
       "    </tr>\n",
       "    <tr>\n",
       "      <th>2</th>\n",
       "      <td>Bombshell</td>\n",
       "      <td>English</td>\n",
       "      <td>6.8</td>\n",
       "      <td>1 h 48 min</td>\n",
       "      <td>2019.0</td>\n",
       "      <td>18+</td>\n",
       "      <td>The provocative real story of three smart, amb...</td>\n",
       "    </tr>\n",
       "    <tr>\n",
       "      <th>3</th>\n",
       "      <td>Love Birds</td>\n",
       "      <td>Tamil</td>\n",
       "      <td>5.1</td>\n",
       "      <td>2 h 40 min</td>\n",
       "      <td>1996.0</td>\n",
       "      <td>All</td>\n",
       "      <td>After accidentally meeting, Mridula (Nagma) an...</td>\n",
       "    </tr>\n",
       "    <tr>\n",
       "      <th>4</th>\n",
       "      <td>Hippi</td>\n",
       "      <td>Telugu</td>\n",
       "      <td>5</td>\n",
       "      <td>2 h 20 min</td>\n",
       "      <td>2019.0</td>\n",
       "      <td>18+</td>\n",
       "      <td>Hippi is about the live-in relationship betwee...</td>\n",
       "    </tr>\n",
       "  </tbody>\n",
       "</table>\n",
       "</div>"
      ],
      "text/plain": [
       "     Movie Name Language IMDb Rating Running Time  Year of Release  \\\n",
       "0    John Rambo    Tamil           7   1 h 26 min           2008.0   \n",
       "1  American Pie  English           7   1 h 35 min           1999.0   \n",
       "2     Bombshell  English         6.8   1 h 48 min           2019.0   \n",
       "3    Love Birds    Tamil         5.1   2 h 40 min           1996.0   \n",
       "4         Hippi   Telugu           5   2 h 20 min           2019.0   \n",
       "\n",
       "  Maturity Rating                                               Plot  \n",
       "0             18+  In Thailand, John Rambo joins a group of merce...  \n",
       "1             18+  You'll never look at warm apple pie the same w...  \n",
       "2             18+  The provocative real story of three smart, amb...  \n",
       "3             All  After accidentally meeting, Mridula (Nagma) an...  \n",
       "4             18+  Hippi is about the live-in relationship betwee...  "
      ]
     },
     "execution_count": 3,
     "metadata": {},
     "output_type": "execute_result"
    }
   ],
   "source": [
    "df.head()"
   ]
  },
  {
   "cell_type": "markdown",
   "id": "4828a685-a824-4a43-aa41-dcc2ed0cf97b",
   "metadata": {},
   "source": [
    "### info if dataframe"
   ]
  },
  {
   "cell_type": "code",
   "execution_count": 4,
   "id": "0b0400d4-d76a-43a0-82cc-9be2bbe22b18",
   "metadata": {},
   "outputs": [
    {
     "name": "stdout",
     "output_type": "stream",
     "text": [
      "<class 'pandas.core.frame.DataFrame'>\n",
      "RangeIndex: 8127 entries, 0 to 8126\n",
      "Data columns (total 7 columns):\n",
      " #   Column           Non-Null Count  Dtype  \n",
      "---  ------           --------------  -----  \n",
      " 0   Movie Name       8127 non-null   object \n",
      " 1   Language         8127 non-null   object \n",
      " 2   IMDb Rating      6120 non-null   object \n",
      " 3   Running Time     8127 non-null   object \n",
      " 4   Year of Release  7730 non-null   float64\n",
      " 5   Maturity Rating  8127 non-null   object \n",
      " 6   Plot             8122 non-null   object \n",
      "dtypes: float64(1), object(6)\n",
      "memory usage: 444.6+ KB\n"
     ]
    }
   ],
   "source": [
    "df.info()"
   ]
  },
  {
   "cell_type": "code",
   "execution_count": 5,
   "id": "f3c98d77-6aae-4508-8fe6-f0e02aa2c023",
   "metadata": {},
   "outputs": [
    {
     "data": {
      "text/plain": [
       "(8127, 7)"
      ]
     },
     "execution_count": 5,
     "metadata": {},
     "output_type": "execute_result"
    }
   ],
   "source": [
    "df.shape"
   ]
  },
  {
   "cell_type": "code",
   "execution_count": 6,
   "id": "f0a3b8cd-1e4d-4a26-9bc3-464c80f62dbc",
   "metadata": {},
   "outputs": [
    {
     "data": {
      "text/plain": [
       "Movie Name            0\n",
       "Language              0\n",
       "IMDb Rating        2007\n",
       "Running Time          0\n",
       "Year of Release     397\n",
       "Maturity Rating       0\n",
       "Plot                  5\n",
       "dtype: int64"
      ]
     },
     "execution_count": 6,
     "metadata": {},
     "output_type": "execute_result"
    }
   ],
   "source": [
    "df.isnull().sum()"
   ]
  },
  {
   "cell_type": "code",
   "execution_count": 8,
   "id": "f4e25cfc-9416-4035-9e69-958c557f0b02",
   "metadata": {},
   "outputs": [],
   "source": [
    "df['IMDb Rating'] = df['IMDb Rating'].fillna(df['IMDb Rating'].mean)"
   ]
  },
  {
   "cell_type": "code",
   "execution_count": 10,
   "id": "0c66cd7e-ee0b-44e3-9522-2a1fb125dd68",
   "metadata": {},
   "outputs": [
    {
     "data": {
      "text/html": [
       "<div>\n",
       "<style scoped>\n",
       "    .dataframe tbody tr th:only-of-type {\n",
       "        vertical-align: middle;\n",
       "    }\n",
       "\n",
       "    .dataframe tbody tr th {\n",
       "        vertical-align: top;\n",
       "    }\n",
       "\n",
       "    .dataframe thead th {\n",
       "        text-align: right;\n",
       "    }\n",
       "</style>\n",
       "<table border=\"1\" class=\"dataframe\">\n",
       "  <thead>\n",
       "    <tr style=\"text-align: right;\">\n",
       "      <th></th>\n",
       "      <th>Movie Name</th>\n",
       "      <th>Language</th>\n",
       "      <th>IMDb Rating</th>\n",
       "      <th>Running Time</th>\n",
       "      <th>Year of Release</th>\n",
       "      <th>Maturity Rating</th>\n",
       "      <th>Plot</th>\n",
       "    </tr>\n",
       "  </thead>\n",
       "  <tbody>\n",
       "    <tr>\n",
       "      <th>0</th>\n",
       "      <td>John Rambo</td>\n",
       "      <td>Tamil</td>\n",
       "      <td>7</td>\n",
       "      <td>1 h 26 min</td>\n",
       "      <td>2008.0</td>\n",
       "      <td>18+</td>\n",
       "      <td>In Thailand, John Rambo joins a group of merce...</td>\n",
       "    </tr>\n",
       "    <tr>\n",
       "      <th>1</th>\n",
       "      <td>American Pie</td>\n",
       "      <td>English</td>\n",
       "      <td>7</td>\n",
       "      <td>1 h 35 min</td>\n",
       "      <td>1999.0</td>\n",
       "      <td>18+</td>\n",
       "      <td>You'll never look at warm apple pie the same w...</td>\n",
       "    </tr>\n",
       "    <tr>\n",
       "      <th>2</th>\n",
       "      <td>Bombshell</td>\n",
       "      <td>English</td>\n",
       "      <td>6.8</td>\n",
       "      <td>1 h 48 min</td>\n",
       "      <td>2019.0</td>\n",
       "      <td>18+</td>\n",
       "      <td>The provocative real story of three smart, amb...</td>\n",
       "    </tr>\n",
       "    <tr>\n",
       "      <th>3</th>\n",
       "      <td>Love Birds</td>\n",
       "      <td>Tamil</td>\n",
       "      <td>5.1</td>\n",
       "      <td>2 h 40 min</td>\n",
       "      <td>1996.0</td>\n",
       "      <td>All</td>\n",
       "      <td>After accidentally meeting, Mridula (Nagma) an...</td>\n",
       "    </tr>\n",
       "    <tr>\n",
       "      <th>4</th>\n",
       "      <td>Hippi</td>\n",
       "      <td>Telugu</td>\n",
       "      <td>5</td>\n",
       "      <td>2 h 20 min</td>\n",
       "      <td>2019.0</td>\n",
       "      <td>18+</td>\n",
       "      <td>Hippi is about the live-in relationship betwee...</td>\n",
       "    </tr>\n",
       "    <tr>\n",
       "      <th>5</th>\n",
       "      <td>Honey Bunny As Super Team X</td>\n",
       "      <td>Tamil</td>\n",
       "      <td>&lt;bound method Series.mean of 0         7\\n1   ...</td>\n",
       "      <td>49min</td>\n",
       "      <td>2018.0</td>\n",
       "      <td>7+</td>\n",
       "      <td>Flamingo a Hitech Thief has created chaos in t...</td>\n",
       "    </tr>\n",
       "    <tr>\n",
       "      <th>6</th>\n",
       "      <td>Ayyaa</td>\n",
       "      <td>Tamil</td>\n",
       "      <td>5.7</td>\n",
       "      <td>2 h 39 min</td>\n",
       "      <td>2005.0</td>\n",
       "      <td>All</td>\n",
       "      <td>Ayyaa Is A Super Hit Tamil Action Movie, Direc...</td>\n",
       "    </tr>\n",
       "    <tr>\n",
       "      <th>7</th>\n",
       "      <td>Mukhya Mantri</td>\n",
       "      <td>Bengali</td>\n",
       "      <td>&lt;bound method Series.mean of 0         7\\n1   ...</td>\n",
       "      <td>1 h 57 min</td>\n",
       "      <td>1996.0</td>\n",
       "      <td>NR</td>\n",
       "      <td>'Mukhya Mantri' is the story of a poor school ...</td>\n",
       "    </tr>\n",
       "    <tr>\n",
       "      <th>8</th>\n",
       "      <td>Gandhi Fer Aa Gea</td>\n",
       "      <td>Punjabi</td>\n",
       "      <td>4.9</td>\n",
       "      <td>2 h 13 mins</td>\n",
       "      <td>2020.0</td>\n",
       "      <td>13+</td>\n",
       "      <td>Gandhi returns home from a ten year long sente...</td>\n",
       "    </tr>\n",
       "    <tr>\n",
       "      <th>9</th>\n",
       "      <td>Premada Vayasu</td>\n",
       "      <td>Kannada</td>\n",
       "      <td>6</td>\n",
       "      <td>1 h 56 min</td>\n",
       "      <td>1997.0</td>\n",
       "      <td>NR</td>\n",
       "      <td>Premada Vayasu is a 1997 Indian Kannada film, ...</td>\n",
       "    </tr>\n",
       "  </tbody>\n",
       "</table>\n",
       "</div>"
      ],
      "text/plain": [
       "                    Movie Name Language  \\\n",
       "0                   John Rambo    Tamil   \n",
       "1                 American Pie  English   \n",
       "2                    Bombshell  English   \n",
       "3                   Love Birds    Tamil   \n",
       "4                        Hippi   Telugu   \n",
       "5  Honey Bunny As Super Team X    Tamil   \n",
       "6                        Ayyaa    Tamil   \n",
       "7                Mukhya Mantri  Bengali   \n",
       "8            Gandhi Fer Aa Gea  Punjabi   \n",
       "9               Premada Vayasu  Kannada   \n",
       "\n",
       "                                         IMDb Rating Running Time  \\\n",
       "0                                                  7   1 h 26 min   \n",
       "1                                                  7   1 h 35 min   \n",
       "2                                                6.8   1 h 48 min   \n",
       "3                                                5.1   2 h 40 min   \n",
       "4                                                  5   2 h 20 min   \n",
       "5  <bound method Series.mean of 0         7\\n1   ...        49min   \n",
       "6                                                5.7   2 h 39 min   \n",
       "7  <bound method Series.mean of 0         7\\n1   ...   1 h 57 min   \n",
       "8                                                4.9  2 h 13 mins   \n",
       "9                                                  6   1 h 56 min   \n",
       "\n",
       "   Year of Release Maturity Rating  \\\n",
       "0           2008.0             18+   \n",
       "1           1999.0             18+   \n",
       "2           2019.0             18+   \n",
       "3           1996.0             All   \n",
       "4           2019.0             18+   \n",
       "5           2018.0              7+   \n",
       "6           2005.0             All   \n",
       "7           1996.0              NR   \n",
       "8           2020.0             13+   \n",
       "9           1997.0              NR   \n",
       "\n",
       "                                                Plot  \n",
       "0  In Thailand, John Rambo joins a group of merce...  \n",
       "1  You'll never look at warm apple pie the same w...  \n",
       "2  The provocative real story of three smart, amb...  \n",
       "3  After accidentally meeting, Mridula (Nagma) an...  \n",
       "4  Hippi is about the live-in relationship betwee...  \n",
       "5  Flamingo a Hitech Thief has created chaos in t...  \n",
       "6  Ayyaa Is A Super Hit Tamil Action Movie, Direc...  \n",
       "7  'Mukhya Mantri' is the story of a poor school ...  \n",
       "8  Gandhi returns home from a ten year long sente...  \n",
       "9  Premada Vayasu is a 1997 Indian Kannada film, ...  "
      ]
     },
     "execution_count": 10,
     "metadata": {},
     "output_type": "execute_result"
    }
   ],
   "source": [
    "df.head(10)"
   ]
  },
  {
   "cell_type": "code",
   "execution_count": null,
   "id": "e7877efe-8c85-4e5f-abc6-ccc47cd41303",
   "metadata": {},
   "outputs": [],
   "source": []
  }
 ],
 "metadata": {
  "kernelspec": {
   "display_name": "Python 3 (ipykernel)",
   "language": "python",
   "name": "python3"
  },
  "language_info": {
   "codemirror_mode": {
    "name": "ipython",
    "version": 3
   },
   "file_extension": ".py",
   "mimetype": "text/x-python",
   "name": "python",
   "nbconvert_exporter": "python",
   "pygments_lexer": "ipython3",
   "version": "3.13.5"
  }
 },
 "nbformat": 4,
 "nbformat_minor": 5
}
